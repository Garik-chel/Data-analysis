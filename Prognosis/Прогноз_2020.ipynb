{
 "cells": [
  {
   "cell_type": "code",
   "execution_count": 23,
   "id": "amber-producer",
   "metadata": {},
   "outputs": [
    {
     "name": "stdout",
     "output_type": "stream",
     "text": [
      "1.52\n"
     ]
    }
   ],
   "source": [
    "%matplotlib inline\n",
    "import pandas as pd\n",
    "import numpy as np\n",
    "from sklearn.linear_model import LinearRegression\n",
    "\n",
    "data = pd.read_csv(\"https://video.ittensive.com/python-advanced/data-9753-2019-07-25.utf.csv\",\n",
    "                   na_values=\"NA\", delimiter=';')\n",
    "data = data.groupby('Year').filter(lambda x: x['Year'].count() > 5)\n",
    "data_avg = data.groupby('Year').mean()\n",
    "x = np.array(data_avg.index).reshape(len(data_avg.index), 1)\n",
    "y = np.array(100 * data_avg['UnemployedDisabled'] / data_avg['UnemployedTotal']).reshape(len(data_avg.index), 1)\n",
    "model = LinearRegression()\n",
    "model.fit(x, y)\n",
    "print(np.round(model.predict(np.array(2020).reshape(1, 1)), 2)[0][0])\n"
   ]
  },
  {
   "cell_type": "code",
   "execution_count": null,
   "id": "massive-lambda",
   "metadata": {},
   "outputs": [],
   "source": []
  }
 ],
 "metadata": {
  "kernelspec": {
   "display_name": "Python 3",
   "language": "python",
   "name": "python3"
  },
  "language_info": {
   "codemirror_mode": {
    "name": "ipython",
    "version": 3
   },
   "file_extension": ".py",
   "mimetype": "text/x-python",
   "name": "python",
   "nbconvert_exporter": "python",
   "pygments_lexer": "ipython3",
   "version": "3.9.2"
  }
 },
 "nbformat": 4,
 "nbformat_minor": 5
}
